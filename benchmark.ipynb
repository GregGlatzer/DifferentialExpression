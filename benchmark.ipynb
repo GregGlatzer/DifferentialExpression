{
 "cells": [
  {
   "cell_type": "code",
   "execution_count": 15,
   "metadata": {},
   "outputs": [
    {
     "ename": "ModuleNotFoundError",
     "evalue": "No module named 'pydeseq2'",
     "output_type": "error",
     "traceback": [
      "\u001b[1;31m---------------------------------------------------------------------------\u001b[0m",
      "\u001b[1;31mModuleNotFoundError\u001b[0m                       Traceback (most recent call last)",
      "Cell \u001b[1;32mIn[15], line 3\u001b[0m\n\u001b[0;32m      1\u001b[0m \u001b[38;5;28;01mimport\u001b[39;00m \u001b[38;5;21;01mpandas\u001b[39;00m \u001b[38;5;28;01mas\u001b[39;00m \u001b[38;5;21;01mpd\u001b[39;00m\n\u001b[0;32m      2\u001b[0m \u001b[38;5;28;01mfrom\u001b[39;00m \u001b[38;5;21;01mtime\u001b[39;00m \u001b[38;5;28;01mimport\u001b[39;00m time\n\u001b[1;32m----> 3\u001b[0m \u001b[38;5;28;01mfrom\u001b[39;00m \u001b[38;5;21;01mpydeseq2\u001b[39;00m\u001b[38;5;21;01m.\u001b[39;00m\u001b[38;5;21;01mdds\u001b[39;00m \u001b[38;5;28;01mimport\u001b[39;00m DeseqDataSet\n\u001b[0;32m      4\u001b[0m \u001b[38;5;28;01mfrom\u001b[39;00m \u001b[38;5;21;01mpydeseq2\u001b[39;00m\u001b[38;5;21;01m.\u001b[39;00m\u001b[38;5;21;01mds\u001b[39;00m \u001b[38;5;28;01mimport\u001b[39;00m DeseqStats\n",
      "\u001b[1;31mModuleNotFoundError\u001b[0m: No module named 'pydeseq2'"
     ]
    }
   ],
   "source": [
    "import pandas as pd\n",
    "from time import time\n",
    "from pydeseq2.dds import DeseqDataSet\n",
    "from pydeseq2.ds import DeseqStats"
   ]
  },
  {
   "cell_type": "code",
   "execution_count": 7,
   "metadata": {},
   "outputs": [
    {
     "name": "stdout",
     "output_type": "stream",
     "text": [
      "Loading dataset\n",
      "Dataset loaded in 1.48 seconds\n",
      "Dataset size: (19979, 1298)\n",
      "Cohort A size: 58\n",
      "Cohort B size: 224\n",
      "No Cohort size: 1016\n",
      "Transposing data for deseq consumption\n",
      "Validating preprocessed data. Valid =  True\n",
      "[PREPROCESSING FINISHED]. Runtime (s): 1.8446526527404785\n",
      "Running Deseq\n"
     ]
    },
    {
     "name": "stderr",
     "output_type": "stream",
     "text": [
      "Fitting size factors...\n",
      "... done in 0.20 seconds.\n",
      "\n",
      "Fitting dispersions...\n",
      "... done in 35.22 seconds.\n",
      "\n",
      "Fitting dispersion trend curve...\n",
      "... done in 2.34 seconds.\n",
      "\n",
      "c:\\Users\\gglatzer\\AppData\\Local\\Programs\\Python\\Python312\\Lib\\site-packages\\anndata\\_core\\views.py:144: RuntimeWarning: invalid value encountered in log\n",
      "  results = super().__array_ufunc__(\n",
      "Fitting MAP dispersions...\n",
      "c:\\Users\\gglatzer\\AppData\\Local\\Programs\\Python\\Python312\\Lib\\site-packages\\deseqpyodide\\utils.py:674: RuntimeWarning: invalid value encountered in log\n",
      "  log_alpha_hat = np.log(alpha_hat)\n",
      "c:\\Users\\gglatzer\\AppData\\Local\\Programs\\Python\\Python312\\Lib\\site-packages\\deseqpyodide\\utils.py:715: RuntimeWarning: invalid value encountered in log\n",
      "  x0=np.log(alpha_hat),\n",
      "c:\\Users\\gglatzer\\AppData\\Local\\Programs\\Python\\Python312\\Lib\\site-packages\\numpy\\linalg\\linalg.py:2120: RuntimeWarning: invalid value encountered in slogdet\n",
      "  sign, logdet = _umath_linalg.slogdet(a, signature=signature)\n",
      "... done in 155.81 seconds.\n",
      "\n",
      "c:\\Users\\gglatzer\\AppData\\Local\\Programs\\Python\\Python312\\Lib\\site-packages\\deseqpyodide\\dds.py:695: RuntimeWarning: invalid value encountered in log\n",
      "  self.varm[\"_outlier_genes\"] = np.log(self.varm[\"genewise_dispersions\"]) > np.log(\n",
      "Fitting LFCs...\n",
      "... done in 17.40 seconds.\n",
      "\n",
      "Refitting 0 outliers.\n",
      "\n",
      "Running Wald tests...\n"
     ]
    },
    {
     "name": "stdout",
     "output_type": "stream",
     "text": [
      "Running stat summary\n",
      "Log2 fold change & Wald test p-value: Condition A vs B\n",
      "[DESEQ FINISHED]. Runtime (s): 226.01384377479553\n",
      "         baseMean  log2FoldChange     lfcSE      stat    pvalue      padj\n",
      "A1BG     0.080212        0.100196  1.174031  0.085343  0.931989       NaN\n",
      "A1CF     0.000000             NaN       NaN       NaN       NaN       NaN\n",
      "A2M      6.083977        0.274073  0.079858  3.431990  0.000599  0.005458\n",
      "A2ML1    0.013148       -0.130321  3.603477 -0.036165  0.971150       NaN\n",
      "A3GALT2  0.003142       -0.029049  3.602803 -0.008063  0.993567       NaN\n",
      "...           ...             ...       ...       ...       ...       ...\n",
      "ZYG11A   0.012687       -0.130321  3.603477 -0.036165  0.971150       NaN\n",
      "ZYG11B   2.325322        0.309209  0.127240  2.430115  0.015094  0.072132\n",
      "ZYX      7.239711       -0.011824  0.077348 -0.152864  0.878505  0.952157\n",
      "ZZEF1    2.660784        0.090997  0.124244  0.732406  0.463921  0.702139\n",
      "ZZZ3     1.717435        0.250926  0.149711  1.676070  0.093725  0.266987\n",
      "\n",
      "[19979 rows x 6 columns]\n",
      "[TOTAL RUNTIME (s)]: 227.87425136566162\n"
     ]
    },
    {
     "name": "stderr",
     "output_type": "stream",
     "text": [
      "... done in 4.59 seconds.\n",
      "\n"
     ]
    }
   ],
   "source": [
    "def preprocess_for_deseq2(counts_fp: str, cohort_A_fp: str, cohort_B_fp: str) -> tuple[pd.DataFrame, pd.DataFrame]:\n",
    "    \"\"\"\n",
    "    Preprocesses the counts matrix for use with DESeq2. Returns a tuple of the preprocessed counts matrix and the cohort data.\n",
    "    \"\"\"\n",
    "\n",
    "    start_time = time()\n",
    "\n",
    "    # Load dataset\n",
    "    print(\"Loading dataset\")\n",
    "    counts = pd.read_csv(counts_fp, index_col=0)\n",
    "    print(f\"Dataset loaded in {round(time() - start_time, 2)} seconds\")\n",
    "    print(\"Dataset size:\", counts.shape)\n",
    "\n",
    "    # Filter out all-0 genes\n",
    "    counts = counts.loc[:, counts.sum() != 0]\n",
    "\n",
    "    # Read cohort data\n",
    "    cohort_A = pd.read_csv(cohort_A_fp)\n",
    "    cohort_B = pd.read_csv(cohort_B_fp)\n",
    "\n",
    "    def determine_cohort(sample_id):\n",
    "        if sample_id.lower() in cohort_A['COHORT A'].str.lower().values:\n",
    "            return 'A'\n",
    "        elif sample_id.lower() in cohort_B['COHORT B'].str.lower().values:\n",
    "            return 'B'\n",
    "        else:\n",
    "            return 'Unknown'\n",
    "\n",
    "    # Apply determine_cohort function to create 'cohort' column\n",
    "    sids = counts.columns\n",
    "    cohorts = [determine_cohort(sample_id) for sample_id in sids]\n",
    "\n",
    "    # Print cohort sizes\n",
    "    print('Cohort A size:', cohorts.count('A'))\n",
    "    print('Cohort B size:', cohorts.count('B'))\n",
    "    print('No Cohort size:', cohorts.count('Unknown'))\n",
    "\n",
    "    # Drop Unknown cohort\n",
    "    cohort_data = pd.DataFrame({'Sample': sids, 'Condition': cohorts})\n",
    "    cohort_data = cohort_data[cohort_data['Condition'] != 'Unknown']\n",
    "\n",
    "    # Set index to sample ID\n",
    "    cohort_data = cohort_data.set_index('Sample')\n",
    "\n",
    "    # Subset the counts to only include the columns that are in the cohorts\n",
    "    counts_matrix = counts[cohort_data.index]\n",
    "    print('Transposing data for deseq consumption')\n",
    "\n",
    "    # NOTE: This transpose is not needed in the R version, because the R deseq expects the counts matrix to be in the format of genes as rows and samples as columns. \n",
    "    counts_matrix = counts_matrix.transpose()\n",
    "    \n",
    "\n",
    "    # Make sure rownames and colnames match\n",
    "    print('Validating preprocessed data. Valid = ', all(counts_matrix.index == cohort_data.index))\n",
    "\n",
    "    return counts_matrix, cohort_data\n",
    "\n",
    "\n",
    "def deseq(counts_matrix: pd.DataFrame, metadata: pd.DataFrame) -> pd.DataFrame:\n",
    "\n",
    "    print('Running Deseq')\n",
    "    # run dispersion and log fold-change (LFC) estimation.\n",
    "    dds = DeseqDataSet(counts=counts_matrix, metadata=metadata, design_factors=\"Condition\")\n",
    "    dds.deseq2()\n",
    "\n",
    "    print('Running stat summary')\n",
    "    # summary of statistical tests\n",
    "    stat_res = DeseqStats(dds, n_cpus=8, contrast = ('Condition','A','B'))\n",
    "    stat_res.summary()\n",
    "    res = stat_res.results_df\n",
    "\n",
    "    return res\n",
    "    \n",
    "start_time = time()\n",
    "\n",
    "counts_matrix, cohort_data = preprocess_for_deseq2(\n",
    "    counts_fp=\"./big_int.csv\",\n",
    "    cohort_A_fp=\"C:/Users/gglatzer/OneDrive - Fred Hutchinson Cancer Center/Documents/Oncoscape/Cohort_A.csv\",\n",
    "    cohort_B_fp=\"C:/Users/gglatzer/OneDrive - Fred Hutchinson Cancer Center/Documents/Oncoscape/Cohort_B.csv\"\n",
    ")\n",
    "\n",
    "# counts_matrix, cohort_data = preprocess_for_deseq2(\n",
    "#     counts_fp=r\"C:\\Users\\gglatzer\\GitHub\\DifferentialExpression\\count_table.csv\",\n",
    "#     cohort_A_fp=r\"C:\\Users\\gglatzer\\GitHub\\DifferentialExpression\\cha.csv\",\n",
    "#     cohort_B_fp=r\"C:\\Users\\gglatzer\\GitHub\\DifferentialExpression\\chb.csv\"\n",
    "# )\n",
    "\n",
    "print('[PREPROCESSING FINISHED]. Runtime (s):', time() - start_time)\n",
    "\n",
    "start_time_deseq = time()\n",
    "\n",
    "deseq_summary = deseq(counts_matrix, cohort_data)\n",
    "\n",
    "print('[DESEQ FINISHED]. Runtime (s):', time() - start_time_deseq)\n",
    "print(deseq_summary)\n",
    "\n",
    "print('[TOTAL RUNTIME (s)]:', time() - start_time)\n"
   ]
  },
  {
   "cell_type": "markdown",
   "metadata": {},
   "source": [
    "### How will this scale?"
   ]
  },
  {
   "cell_type": "code",
   "execution_count": 12,
   "metadata": {},
   "outputs": [
    {
     "name": "stdout",
     "output_type": "stream",
     "text": [
      "Ivan's dataset sample size x gene count: 485304\n"
     ]
    },
    {
     "data": {
      "text/plain": [
       "(60663, 8)"
      ]
     },
     "execution_count": 12,
     "metadata": {},
     "output_type": "execute_result"
    }
   ],
   "source": [
    "ivan = pd.read_csv(r'C:\\Users\\gglatzer\\GitHub\\DifferentialExpression\\count_table.csv', index_col=0)\n",
    "ivan_size = ivan.shape[0] * ivan.shape[1]\n",
    "print('Ivan\\'s dataset sample size x gene count:', ivan_size)\n",
    "ivan.shape"
   ]
  },
  {
   "cell_type": "code",
   "execution_count": 18,
   "metadata": {},
   "outputs": [
    {
     "name": "stdout",
     "output_type": "stream",
     "text": [
      "Brain UMAP dataset sample size x gene count: 5634078\n"
     ]
    },
    {
     "data": {
      "text/plain": [
       "(19979, 282)"
      ]
     },
     "execution_count": 18,
     "metadata": {},
     "output_type": "execute_result"
    }
   ],
   "source": [
    "real = pd.read_csv(r\"C:/Users/gglatzer/Downloads/1298_combatseq_log2tpm_sampleIDnew.csv\")\n",
    "a = pd.read_csv(r\"C:/Users/gglatzer/OneDrive - Fred Hutchinson Cancer Center/Documents/Oncoscape/Cohort_A.csv\")\n",
    "b = pd.read_csv(r\"C:/Users/gglatzer/OneDrive - Fred Hutchinson Cancer Center/Documents/Oncoscape/Cohort_B.csv\")\n",
    "\n",
    "a_cols = real.columns.str.lower().isin(a['COHORT A'].str.lower())\n",
    "b_cols = real.columns.str.lower().isin(b['COHORT B'].str.lower())\n",
    "\n",
    "real_shape_in_cohorts = real[real.columns[a_cols | b_cols]].shape\n",
    "real_size = real_shape_in_cohorts[0] * real_shape_in_cohorts[1]\n",
    "\n",
    "print('Brain UMAP dataset sample size x gene count:', real_size)\n",
    "real_shape_in_cohorts"
   ]
  },
  {
   "cell_type": "code",
   "execution_count": 19,
   "metadata": {},
   "outputs": [
    {
     "name": "stdout",
     "output_type": "stream",
     "text": [
      "The Brain UMAP dataset is 11.61 times larger than Ivan's dataset\n"
     ]
    }
   ],
   "source": [
    "times_larger = round(real_size / ivan_size, 2)\n",
    "print(f'The Brain UMAP dataset is {times_larger} times larger than Ivan\\'s dataset')"
   ]
  },
  {
   "cell_type": "code",
   "execution_count": 23,
   "metadata": {},
   "outputs": [
    {
     "name": "stdout",
     "output_type": "stream",
     "text": [
      "Estimated Brain UMAP Python runtime 21m 59.62s\n",
      "Estimated Brain UMAP R runtime (s): 1m 36.59s\n"
     ]
    }
   ],
   "source": [
    "python_runtime = 113.66207528114319 # in seconds\n",
    "R_runtime = 8.31981992721558 # in seconds\n",
    "\n",
    "estimated_UMAP_python_runtime = python_runtime * times_larger\n",
    "estimated_real_R_runtime = R_runtime * times_larger\n",
    "\n",
    "print(f'Estimated Brain UMAP Python runtime {round(estimated_UMAP_python_runtime // 60)}m {round(estimated_UMAP_python_runtime % 60, 2)}s')\n",
    "print(f'Estimated Brain UMAP R runtime (s): {round(estimated_real_R_runtime // 60)}m {round(estimated_real_R_runtime % 60, 2)}s')"
   ]
  },
  {
   "cell_type": "code",
   "execution_count": null,
   "metadata": {},
   "outputs": [],
   "source": []
  }
 ],
 "metadata": {
  "kernelspec": {
   "display_name": "Python 3",
   "language": "python",
   "name": "python3"
  },
  "language_info": {
   "codemirror_mode": {
    "name": "ipython",
    "version": 3
   },
   "file_extension": ".py",
   "mimetype": "text/x-python",
   "name": "python",
   "nbconvert_exporter": "python",
   "pygments_lexer": "ipython3",
   "version": "3.12.1"
  }
 },
 "nbformat": 4,
 "nbformat_minor": 2
}
