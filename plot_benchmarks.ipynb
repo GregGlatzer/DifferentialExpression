{
 "cells": [
  {
   "cell_type": "code",
   "execution_count": 1,
   "metadata": {},
   "outputs": [],
   "source": [
    "import pandas as pd"
   ]
  },
  {
   "cell_type": "code",
   "execution_count": 33,
   "metadata": {},
   "outputs": [
    {
     "data": {
      "text/html": [
       "<div>\n",
       "<style scoped>\n",
       "    .dataframe tbody tr th:only-of-type {\n",
       "        vertical-align: middle;\n",
       "    }\n",
       "\n",
       "    .dataframe tbody tr th {\n",
       "        vertical-align: top;\n",
       "    }\n",
       "\n",
       "    .dataframe thead th {\n",
       "        text-align: right;\n",
       "    }\n",
       "</style>\n",
       "<table border=\"1\" class=\"dataframe\">\n",
       "  <thead>\n",
       "    <tr style=\"text-align: right;\">\n",
       "      <th></th>\n",
       "      <th>ID</th>\n",
       "      <th>Implementation</th>\n",
       "      <th>Dataset</th>\n",
       "      <th># runs</th>\n",
       "      <th>Avg Runtime</th>\n",
       "    </tr>\n",
       "  </thead>\n",
       "  <tbody>\n",
       "    <tr>\n",
       "      <th>0</th>\n",
       "      <td>2</td>\n",
       "      <td>Python (Ivan’s pkg)</td>\n",
       "      <td>Ivan</td>\n",
       "      <td>1</td>\n",
       "      <td>1m 53s</td>\n",
       "    </tr>\n",
       "    <tr>\n",
       "      <th>1</th>\n",
       "      <td>3</td>\n",
       "      <td>R</td>\n",
       "      <td>Ivan</td>\n",
       "      <td>1</td>\n",
       "      <td>0m 8s</td>\n",
       "    </tr>\n",
       "    <tr>\n",
       "      <th>2</th>\n",
       "      <td>4</td>\n",
       "      <td>Python (Ivan’s pkg)</td>\n",
       "      <td>Brain-UMAP (Int)</td>\n",
       "      <td>2</td>\n",
       "      <td>3m 25s</td>\n",
       "    </tr>\n",
       "    <tr>\n",
       "      <th>3</th>\n",
       "      <td>5</td>\n",
       "      <td>R</td>\n",
       "      <td>Brain-UMAP (Int)</td>\n",
       "      <td>2</td>\n",
       "      <td>0m 48s</td>\n",
       "    </tr>\n",
       "    <tr>\n",
       "      <th>4</th>\n",
       "      <td>6</td>\n",
       "      <td>Python (Original pkg)</td>\n",
       "      <td>Brain-UMAP (Int)</td>\n",
       "      <td>2</td>\n",
       "      <td>1m 3s</td>\n",
       "    </tr>\n",
       "  </tbody>\n",
       "</table>\n",
       "</div>"
      ],
      "text/plain": [
       "  ID         Implementation           Dataset # runs Avg Runtime\n",
       "0  2    Python (Ivan’s pkg)              Ivan      1      1m 53s\n",
       "1  3                      R              Ivan      1       0m 8s\n",
       "2  4    Python (Ivan’s pkg)  Brain-UMAP (Int)      2      3m 25s\n",
       "3  5                      R  Brain-UMAP (Int)      2      0m 48s\n",
       "4  6  Python (Original pkg)  Brain-UMAP (Int)      2       1m 3s"
      ]
     },
     "execution_count": 33,
     "metadata": {},
     "output_type": "execute_result"
    }
   ],
   "source": [
    "df = pd.DataFrame([\n",
    "    [\"2\", \"Python (Ivan’s pkg)\", \"Ivan\", \"1\", \"1m 53s\"],\n",
    "    [\"3\", \"R\", \"Ivan\", \"1\", \"0m 8s\"],\n",
    "\n",
    "    # Brain-UMAP (Int)\n",
    "    [\"4\", \"Python (Ivan’s pkg)\", \"Brain-UMAP (Int)\", \"2\", \"3m 25s\"],\n",
    "    [\"5\", \"R\", \"Brain-UMAP (Int)\", \"2\", \"0m 48s\"],\n",
    "    [\"6\", \"Python (Original pkg)\", \"Brain-UMAP (Int)\", \"2\", \"1m 3s\"]\n",
    "], columns=['ID', 'Implementation', 'Dataset', '# runs', 'Avg Runtime'])\n",
    "df"
   ]
  },
  {
   "cell_type": "code",
   "execution_count": 34,
   "metadata": {},
   "outputs": [
    {
     "data": {
      "text/html": [
       "<div>\n",
       "<style scoped>\n",
       "    .dataframe tbody tr th:only-of-type {\n",
       "        vertical-align: middle;\n",
       "    }\n",
       "\n",
       "    .dataframe tbody tr th {\n",
       "        vertical-align: top;\n",
       "    }\n",
       "\n",
       "    .dataframe thead th {\n",
       "        text-align: right;\n",
       "    }\n",
       "</style>\n",
       "<table border=\"1\" class=\"dataframe\">\n",
       "  <thead>\n",
       "    <tr style=\"text-align: right;\">\n",
       "      <th></th>\n",
       "      <th>ID</th>\n",
       "      <th>Implementation</th>\n",
       "      <th>Dataset</th>\n",
       "      <th># runs</th>\n",
       "      <th>Avg Runtime</th>\n",
       "    </tr>\n",
       "  </thead>\n",
       "  <tbody>\n",
       "    <tr>\n",
       "      <th>0</th>\n",
       "      <td>2</td>\n",
       "      <td>Python (Ivan’s pkg)</td>\n",
       "      <td>Ivan</td>\n",
       "      <td>1</td>\n",
       "      <td>113</td>\n",
       "    </tr>\n",
       "    <tr>\n",
       "      <th>1</th>\n",
       "      <td>3</td>\n",
       "      <td>R</td>\n",
       "      <td>Ivan</td>\n",
       "      <td>1</td>\n",
       "      <td>8</td>\n",
       "    </tr>\n",
       "    <tr>\n",
       "      <th>2</th>\n",
       "      <td>4</td>\n",
       "      <td>Python (Ivan’s pkg)</td>\n",
       "      <td>Brain-UMAP (Int)</td>\n",
       "      <td>2</td>\n",
       "      <td>205</td>\n",
       "    </tr>\n",
       "    <tr>\n",
       "      <th>3</th>\n",
       "      <td>5</td>\n",
       "      <td>R</td>\n",
       "      <td>Brain-UMAP (Int)</td>\n",
       "      <td>2</td>\n",
       "      <td>48</td>\n",
       "    </tr>\n",
       "    <tr>\n",
       "      <th>4</th>\n",
       "      <td>6</td>\n",
       "      <td>Python (Original pkg)</td>\n",
       "      <td>Brain-UMAP (Int)</td>\n",
       "      <td>2</td>\n",
       "      <td>63</td>\n",
       "    </tr>\n",
       "  </tbody>\n",
       "</table>\n",
       "</div>"
      ],
      "text/plain": [
       "  ID         Implementation           Dataset  # runs  Avg Runtime\n",
       "0  2    Python (Ivan’s pkg)              Ivan       1          113\n",
       "1  3                      R              Ivan       1            8\n",
       "2  4    Python (Ivan’s pkg)  Brain-UMAP (Int)       2          205\n",
       "3  5                      R  Brain-UMAP (Int)       2           48\n",
       "4  6  Python (Original pkg)  Brain-UMAP (Int)       2           63"
      ]
     },
     "execution_count": 34,
     "metadata": {},
     "output_type": "execute_result"
    }
   ],
   "source": [
    "# convert Avg Runtime to seconds\n",
    "df['Avg Runtime'] = df['Avg Runtime'].apply(lambda x: int(x.split(' ')[0][:-1]) * 60 + int(x.split(' ')[1][:-1]))\n",
    "\n",
    "# convert # runs to int\n",
    "df['# runs'] = df['# runs'].astype(int)\n",
    "\n",
    "df"
   ]
  },
  {
   "cell_type": "code",
   "execution_count": 54,
   "metadata": {},
   "outputs": [
    {
     "data": {
      "image/png": "[encoded data removed]",
      "text/plain": [
       "<Figure size 640x480 with 1 Axes>"
      ]
     },
     "metadata": {},
     "output_type": "display_data"
    }
   ],
   "source": [
    "import matplotlib.pyplot as plt\n",
    "\n",
    "# bar chart of avg runtime per implementation per dataset\n",
    "to_plot = df[df.Dataset == \"Brain-UMAP (Int)\"].sort_values(by=\"Implementation\")\n",
    "to_plot.plot(\n",
    "    x='Implementation', \n",
    "    y='Avg Runtime', \n",
    "    kind='bar', \n",
    "    title='DESeq Average Runtimes on Brain-UMAP dataset', \n",
    "    rot=0,\n",
    "    legend=False, \n",
    "    ylabel='Avg Runtime (s)')\n",
    "plt.show()"
   ]
  },
  {
   "cell_type": "code",
   "execution_count": null,
   "metadata": {},
   "outputs": [],
   "source": []
  }
 ],
 "metadata": {
  "kernelspec": {
   "display_name": "Python 3",
   "language": "python",
   "name": "python3"
  },
  "language_info": {
   "codemirror_mode": {
    "name": "ipython",
    "version": 3
   },
   "file_extension": ".py",
   "mimetype": "text/x-python",
   "name": "python",
   "nbconvert_exporter": "python",
   "pygments_lexer": "ipython3",
   "version": "3.12.1"
  }
 },
 "nbformat": 4,
 "nbformat_minor": 2
}
